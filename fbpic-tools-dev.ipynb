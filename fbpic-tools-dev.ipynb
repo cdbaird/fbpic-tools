{
 "cells": [
  {
   "cell_type": "markdown",
   "id": "87dd5b09",
   "metadata": {},
   "source": [
    "# fbpic-tools\n",
    "\n",
    "A collection of tools to aid the analysis of fbpic simulations, particularly LWFA."
   ]
  },
  {
   "cell_type": "code",
   "execution_count": null,
   "id": "e506f721",
   "metadata": {},
   "outputs": [],
   "source": []
  }
 ],
 "metadata": {
  "kernelspec": {
   "display_name": "Python 3 (ipykernel)",
   "language": "python",
   "name": "python3"
  },
  "language_info": {
   "codemirror_mode": {
    "name": "ipython",
    "version": 3
   },
   "file_extension": ".py",
   "mimetype": "text/x-python",
   "name": "python",
   "nbconvert_exporter": "python",
   "pygments_lexer": "ipython3",
   "version": "3.10.0"
  }
 },
 "nbformat": 4,
 "nbformat_minor": 5
}
